{
 "cells": [
  {
   "cell_type": "code",
   "execution_count": 1,
   "id": "ba5246b0-9f98-4e95-a9d4-867c48c56c42",
   "metadata": {},
   "outputs": [],
   "source": [
    "%matplotlib inline\n",
    "import matplotlib.pyplot as plt\n",
    "from sklearn.datasets import load_iris\n",
    "from sklearn.tree import DecisionTreeClassifier\n",
    "from sklearn.model_selection import train_test_split, KFold\n",
    "import pandas as pd\n",
    "from sklearn import tree"
   ]
  },
  {
   "cell_type": "code",
   "execution_count": 2,
   "id": "e0911999-aa53-42d2-ae76-ba6f22a0e8cd",
   "metadata": {},
   "outputs": [],
   "source": [
    "original = pd.read_csv(\"Threats (1).csv\")\n",
    "data = original.copy()"
   ]
  },
  {
   "cell_type": "code",
   "execution_count": 3,
   "id": "1247d9ba-9186-4fe5-a9c7-cee2faa89ce4",
   "metadata": {},
   "outputs": [],
   "source": [
    "def frequency_encoding(columns):\n",
    "    global data\n",
    "    for col in columns:\n",
    "        freq_map = data[col].value_counts()\n",
    "        data[col + '_freq'] = data[col].map(freq_map)\n",
    "        data.drop(col, axis=1, inplace=True)\n",
    "frequency_encoding([\"proto\", \"service\", \"state\", \"attack_cat\"])\n",
    "titles = list(data)[0:-1]"
   ]
  },
  {
   "cell_type": "code",
   "execution_count": 4,
   "id": "6fc3c04f-8982-4d3d-8f93-0ab6fb4d8b55",
   "metadata": {},
   "outputs": [
    {
     "name": "stdout",
     "output_type": "stream",
     "text": [
      "~~~~ CROSS VALIDATION each fold ~~~~\n",
      "Model:  1\n",
      "Accuracy:  0.8866642039157739\n",
      "Model:  2\n",
      "Accuracy:  0.6949165065760308\n",
      "Model:  3\n",
      "Accuracy:  0.6895226836116447\n",
      "Model:  4\n",
      "Accuracy:  0.670311807300133\n",
      "Model:  5\n",
      "Accuracy:  0.7220333973695877\n",
      "Model:  6\n",
      "Accuracy:  0.7656273089995567\n",
      "Model:  7\n",
      "Accuracy:  0.841066942515147\n",
      "Model:  8\n",
      "Accuracy:  0.8604994827840993\n",
      "Model:  9\n",
      "Accuracy:  0.9232303827397665\n",
      "Model:  10\n",
      "Accuracy:  0.9001773311659524\n"
     ]
    }
   ],
   "source": [
    "kf = KFold(n_splits=10, shuffle=False)\n",
    "\n",
    "accuracy_list = []\n",
    "X= data[titles].values\n",
    "y= data['attack_cat_freq'].values\n",
    "\n",
    "n= 0\n",
    "print(\"~~~~ CROSS VALIDATION each fold ~~~~\")\n",
    "for train_index, test_index in kf.split(X, y):\n",
    "    clf = DecisionTreeClassifier().fit(X[train_index], y[train_index])\n",
    "    score = clf.score(X[test_index], y[test_index])\n",
    "\n",
    "    accuracy_list.append(score)\n",
    "    print('Model: ', n+1)\n",
    "    print('Accuracy: ', accuracy_list[n])\n",
    "    n = n + 1"
   ]
  },
  {
   "cell_type": "code",
   "execution_count": null,
   "id": "6c90e240-94bc-46e8-812d-14ddfa72e06c",
   "metadata": {},
   "outputs": [],
   "source": []
  }
 ],
 "metadata": {
  "kernelspec": {
   "display_name": "Python 3 (ipykernel)",
   "language": "python",
   "name": "python3"
  },
  "language_info": {
   "codemirror_mode": {
    "name": "ipython",
    "version": 3
   },
   "file_extension": ".py",
   "mimetype": "text/x-python",
   "name": "python",
   "nbconvert_exporter": "python",
   "pygments_lexer": "ipython3",
   "version": "3.10.12"
  }
 },
 "nbformat": 4,
 "nbformat_minor": 5
}
