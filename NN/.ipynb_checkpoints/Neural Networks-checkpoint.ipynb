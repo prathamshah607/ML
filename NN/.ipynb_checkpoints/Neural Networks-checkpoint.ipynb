{
 "cells": [
  {
   "cell_type": "markdown",
   "metadata": {},
   "source": [
    "## Imports"
   ]
  },
  {
   "cell_type": "code",
   "execution_count": 1,
   "metadata": {},
   "outputs": [],
   "source": [
    "import numpy as np\n",
    "import pandas as pd\n",
    "from matplotlib import image\n",
    "import matplotlib.pyplot as plt\n",
    "import os"
   ]
  },
  {
   "cell_type": "markdown",
   "metadata": {},
   "source": [
    "## Loading the Images"
   ]
  },
  {
   "cell_type": "code",
   "execution_count": 2,
   "metadata": {},
   "outputs": [
    {
     "name": "stderr",
     "output_type": "stream",
     "text": [
      "/tmp/ipykernel_16951/3679182275.py:20: FutureWarning: The behavior of DataFrame concatenation with empty or all-NA entries is deprecated. In a future version, this will no longer exclude empty or all-NA columns when determining the result dtypes. To retain the old behavior, exclude the relevant entries before the concat operation.\n",
      "  images_df = pd.concat([images_df, subpath_df], ignore_index=True)\n",
      "/tmp/ipykernel_16951/3679182275.py:20: FutureWarning: The behavior of DataFrame concatenation with empty or all-NA entries is deprecated. In a future version, this will no longer exclude empty or all-NA columns when determining the result dtypes. To retain the old behavior, exclude the relevant entries before the concat operation.\n",
      "  images_df = pd.concat([images_df, subpath_df], ignore_index=True)\n"
     ]
    }
   ],
   "source": [
    "# Function that goes through all subpaths in a path directory and reads all the images there and returns a dataframe\n",
    "def load_images(path):\n",
    "    column_names = [f'pixel{i}' for i in range(1, 28 * 28 + 1)]\n",
    "    column_names.append('label')\n",
    "    images_df = pd.DataFrame(columns=column_names)\n",
    "\n",
    "    for subpath in os.listdir(path):\n",
    "        images = []\n",
    "        full_path = os.path.join(path, subpath)\n",
    "        for img in os.listdir(full_path):\n",
    "            img_data = image.imread(os.path.join(full_path, img))\n",
    "            images.append(img_data.flatten())\n",
    "        \n",
    "        subpath_df = pd.DataFrame(images, columns=column_names[:-1])\n",
    "        subpath_df['label'] = subpath\n",
    "        \n",
    "        # Drop empty or all-NA columns before concatenating\n",
    "        subpath_df = subpath_df.dropna(axis=1, how='all')\n",
    "        \n",
    "        images_df = pd.concat([images_df, subpath_df], ignore_index=True)\n",
    "    \n",
    "    return images_df\n",
    "\n",
    "train_set = load_images(\"Train\")\n",
    "test_set = load_images(\"Test\")\n",
    "\n",
    "X_train_original = train_set.drop(columns='label')\n",
    "y_train_original = train_set['label']\n",
    "\n",
    "X_test_original = test_set.drop(columns='label')\n",
    "y_test_original = test_set['label']\n",
    "\n",
    "X_train = np.array(X_train_original)\n",
    "y_train = np.array(y_train_original)\n",
    "\n",
    "X_test = np.array(X_test_original)\n",
    "y_test = np.array(y_test_original)\n",
    "\n",
    "# OneHotEncode labels\n",
    "from sklearn.preprocessing import OneHotEncoder\n",
    "encoder = OneHotEncoder(sparse_output=False)\n",
    "y_train = encoder.fit_transform(y_train.reshape(-1, 1))\n",
    "y_test = encoder.transform(y_test.reshape(-1, 1))\n",
    "\n",
    "# Reshape the input to (n_samples, 28*28) instead of (n_samples, 1, 28*28)\n",
    "X_train = X_train.reshape(X_train.shape[0], 28*28)\n",
    "X_test = X_test.reshape(X_test.shape[0], 28*28)"
   ]
  },
  {
   "cell_type": "markdown",
   "metadata": {},
   "source": [
    "## Activation functions with derivates"
   ]
  },
  {
   "cell_type": "code",
   "execution_count": 3,
   "metadata": {},
   "outputs": [],
   "source": [
    "# Activation functions and their derivatives\n",
    "def relu(X, derivative=False):\n",
    "    if derivative:\n",
    "        return np.where(X > 0, 1, 0)\n",
    "    return np.maximum(0, X)\n",
    "\n",
    "def softmax(X):\n",
    "    e_X = np.exp(X - np.max(X, axis=1, keepdims=True))  # For numerical stability\n",
    "    return e_X / np.sum(e_X, axis=1, keepdims=True)\n",
    "\n",
    "def cross_entropy_loss(y_true, y_pred, derivative=False):\n",
    "    if derivative:\n",
    "        return y_pred - y_true  # derivative of cross-entropy\n",
    "    else:\n",
    "        m = y_true.shape[0]\n",
    "        return -np.sum(y_true * np.log(y_pred + 1e-15)) / m  # Added small value to avoid log(0)\n",
    "\n",
    "\n",
    "losses = []"
   ]
  },
  {
   "cell_type": "markdown",
   "metadata": {},
   "source": [
    "## Defining a Layer"
   ]
  },
  {
   "cell_type": "code",
   "execution_count": 4,
   "metadata": {},
   "outputs": [],
   "source": [
    "class Layer:\n",
    "    def __init__(self, input_size, output_size, activator_type):\n",
    "        self.weights = np.random.randn(input_size, output_size) * 0.01  # Initialize weights with small random values\n",
    "        self.bias = np.zeros((1, output_size))  # Initialize biases to zeros\n",
    "        self.activator_type = activator_type\n",
    "\n",
    "    def forward(self, input_data):\n",
    "        self.input_data = input_data\n",
    "        self.predictions = np.dot(input_data, self.weights) + self.bias  # Linear combination\n",
    "        if self.activator_type == 'relu':\n",
    "            self.activated_predictions = relu(self.predictions)  # Apply ReLU activation function\n",
    "        elif self.activator_type == 'softmax':\n",
    "            self.activated_predictions = softmax(self.predictions)  # Apply Softmax for output layer\n",
    "        return self.activated_predictions\n",
    "\n",
    "    def backward(self, dA, learning_rate):\n",
    "        # Backpropagation: Calculate gradients and update weights and biases\n",
    "        \n",
    "        if self.activator_type == 'relu':\n",
    "            # Derivative of ReLU\n",
    "            dZ = dA * relu(self.predictions, derivative=True)\n",
    "        elif self.activator_type == 'softmax':\n",
    "            # Derivative of Softmax (cross-entropy loss already has derivative)\n",
    "            dZ = dA  # For softmax with cross-entropy, dA is directly the gradient of the loss\n",
    "\n",
    "        # Gradient of loss w.r.t weights and biases\n",
    "        m = self.input_data.shape[0]  # Number of examples\n",
    "        dW = np.dot(self.input_data.T, dZ) / m\n",
    "        db = np.sum(dZ, axis=0, keepdims=True) / m\n",
    "        \n",
    "        # Update weights and biases\n",
    "        self.weights -= learning_rate * dW\n",
    "        self.bias -= learning_rate * db\n",
    "        \n",
    "        # Return the gradient for the previous layer (dA for the previous layer)\n",
    "        dA_prev = np.dot(dZ, self.weights.T)\n",
    "        return dA_prev"
   ]
  },
  {
   "cell_type": "markdown",
   "metadata": {},
   "source": [
    "## Defining a Neural Network"
   ]
  },
  {
   "cell_type": "code",
   "execution_count": 5,
   "metadata": {},
   "outputs": [],
   "source": [
    "# Neural Network class definition\n",
    "class NeuralNetwork:\n",
    "    def __init__(self, layer_sizes, activator_type):\n",
    "        # Create layers\n",
    "        self.layers = []\n",
    "        for i in range(1, len(layer_sizes)):\n",
    "            activator = 'relu' if i < len(layer_sizes) - 1 else 'softmax'  # Use ReLU for hidden layers and Softmax for output\n",
    "            self.layers.append(Layer(layer_sizes[i-1], layer_sizes[i], activator))\n",
    "\n",
    "    def forward(self, X):\n",
    "        # Perform forward pass through all layers\n",
    "        self.cache = []  # To store activations of each layer\n",
    "        activation = X\n",
    "        for layer in self.layers:\n",
    "            activation = layer.forward(activation)\n",
    "            self.cache.append(activation)\n",
    "        return activation\n",
    "\n",
    "    def backward(self, X, y_true, learning_rate):\n",
    "        # Perform backpropagation through all layers\n",
    "        \n",
    "        # Compute loss gradient (derivative of Cross-Entropy loss)\n",
    "        dA = cross_entropy_loss(y_true, self.cache[-1], derivative=True)\n",
    "        \n",
    "        # Backpropagate through each layer (in reverse order)\n",
    "        for layer in reversed(self.layers):\n",
    "            dA = layer.backward(dA, learning_rate)\n",
    "\n",
    "    def train(self, X, y, epochs, learning_rate):\n",
    "        # Train the network for a fixed number of epochs\n",
    "        for epoch in range(epochs):\n",
    "            # Forward pass\n",
    "            predictions = self.forward(X)\n",
    "            \n",
    "            # Compute the loss\n",
    "            loss = cross_entropy_loss(y, predictions)\n",
    "            losses.append(loss)\n",
    "            # Backward pass (update weights and biases)\n",
    "            self.backward(X, y, learning_rate)\n",
    "            \n",
    "            # Print loss every 100 epochs\n",
    "            if epoch % 100 == 0:\n",
    "                print(f\"Epoch {epoch}/{epochs}, Loss: {loss}\")"
   ]
  },
  {
   "cell_type": "markdown",
   "metadata": {},
   "source": [
    "## Running the model"
   ]
  },
  {
   "cell_type": "code",
   "execution_count": 6,
   "metadata": {},
   "outputs": [
    {
     "name": "stdout",
     "output_type": "stream",
     "text": [
      "Epoch 0/1000, Loss: 1.6087085379553008\n",
      "Epoch 100/1000, Loss: 1.4112486277734584\n",
      "Epoch 200/1000, Loss: 1.0052224980568014\n",
      "Epoch 300/1000, Loss: 0.685749134998097\n",
      "Epoch 400/1000, Loss: 0.49288069280297225\n",
      "Epoch 500/1000, Loss: 0.38661959591758843\n",
      "Epoch 600/1000, Loss: 0.32273795294032226\n",
      "Epoch 700/1000, Loss: 0.2798304507142567\n",
      "Epoch 800/1000, Loss: 0.24876169729519854\n",
      "Epoch 900/1000, Loss: 0.2252537499623781\n"
     ]
    },
    {
     "data": {
      "image/png": "[encoded data removed]",
      "text/plain": [
       "<Figure size 640x480 with 1 Axes>"
      ]
     },
     "metadata": {},
     "output_type": "display_data"
    }
   ],
   "source": [
    "layer_sizes = [28*28, 100, 5]  # [input size, hidden layer size, output size]\n",
    "activator_type = 'sigmoid'  # ReLU for hidden layers, Softmax for output\n",
    "\n",
    "# Create the neural network\n",
    "nn = NeuralNetwork(layer_sizes, activator_type)\n",
    "\n",
    "# Train the network for 1000 epochs with a learning rate of 0.1\n",
    "epochs = 1000\n",
    "learning_rate = 0.035\n",
    "nn.train(X_train, y_train, epochs, learning_rate)\n",
    "\n",
    "plt.plot(range(0, 1000), losses)\n",
    "plt.title(\"Loss versus iterations\")\n",
    "plt.show()"
   ]
  },
  {
   "cell_type": "code",
   "execution_count": null,
   "metadata": {},
   "outputs": [],
   "source": []
  }
 ],
 "metadata": {
  "kernelspec": {
   "display_name": "Python 3 (ipykernel)",
   "language": "python",
   "name": "python3"
  },
  "language_info": {
   "codemirror_mode": {
    "name": "ipython",
    "version": 3
   },
   "file_extension": ".py",
   "mimetype": "text/x-python",
   "name": "python",
   "nbconvert_exporter": "python",
   "pygments_lexer": "ipython3",
   "version": "3.10.12"
  }
 },
 "nbformat": 4,
 "nbformat_minor": 4
}
